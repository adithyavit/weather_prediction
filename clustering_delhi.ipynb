{
 "cells": [
  {
   "cell_type": "code",
   "execution_count": 24,
   "metadata": {},
   "outputs": [],
   "source": [
    "import numpy as np\n",
    "import pandas as pd\n",
    "sdd = pd.read_csv('/Users/adithya/Downloads/machine_learning/ML_LAB/clean_data_changing.csv')"
   ]
  },
  {
   "cell_type": "code",
   "execution_count": 25,
   "metadata": {},
   "outputs": [
    {
     "data": {
      "text/html": [
       "<div>\n",
       "<style>\n",
       "    .dataframe thead tr:only-child th {\n",
       "        text-align: right;\n",
       "    }\n",
       "\n",
       "    .dataframe thead th {\n",
       "        text-align: left;\n",
       "    }\n",
       "\n",
       "    .dataframe tbody tr th {\n",
       "        vertical-align: top;\n",
       "    }\n",
       "</style>\n",
       "<table border=\"1\" class=\"dataframe\">\n",
       "  <thead>\n",
       "    <tr style=\"text-align: right;\">\n",
       "      <th></th>\n",
       "      <th>tempm</th>\n",
       "      <th>pressurem</th>\n",
       "      <th>year</th>\n",
       "      <th>day</th>\n",
       "    </tr>\n",
       "  </thead>\n",
       "  <tbody>\n",
       "    <tr>\n",
       "      <th>0</th>\n",
       "      <td>9</td>\n",
       "      <td>1021</td>\n",
       "      <td>1997</td>\n",
       "      <td>1</td>\n",
       "    </tr>\n",
       "    <tr>\n",
       "      <th>1</th>\n",
       "      <td>9</td>\n",
       "      <td>1016</td>\n",
       "      <td>1997</td>\n",
       "      <td>2</td>\n",
       "    </tr>\n",
       "    <tr>\n",
       "      <th>2</th>\n",
       "      <td>11</td>\n",
       "      <td>1016</td>\n",
       "      <td>1997</td>\n",
       "      <td>3</td>\n",
       "    </tr>\n",
       "    <tr>\n",
       "      <th>3</th>\n",
       "      <td>11</td>\n",
       "      <td>1016</td>\n",
       "      <td>1997</td>\n",
       "      <td>4</td>\n",
       "    </tr>\n",
       "    <tr>\n",
       "      <th>4</th>\n",
       "      <td>14</td>\n",
       "      <td>1018</td>\n",
       "      <td>1997</td>\n",
       "      <td>5</td>\n",
       "    </tr>\n",
       "  </tbody>\n",
       "</table>\n",
       "</div>"
      ],
      "text/plain": [
       "   tempm  pressurem  year  day\n",
       "0      9       1021  1997    1\n",
       "1      9       1016  1997    2\n",
       "2     11       1016  1997    3\n",
       "3     11       1016  1997    4\n",
       "4     14       1018  1997    5"
      ]
     },
     "execution_count": 25,
     "metadata": {},
     "output_type": "execute_result"
    }
   ],
   "source": [
    "sdd.head()"
   ]
  },
  {
   "cell_type": "code",
   "execution_count": 26,
   "metadata": {
    "collapsed": true
   },
   "outputs": [],
   "source": [
    "from IPython.display import Image\n",
    "%matplotlib inline"
   ]
  },
  {
   "cell_type": "code",
   "execution_count": 27,
   "metadata": {
    "collapsed": true
   },
   "outputs": [],
   "source": [
    "X = sdd[['tempm','pressurem','year','day']]"
   ]
  },
  {
   "cell_type": "code",
   "execution_count": 28,
   "metadata": {
    "collapsed": true
   },
   "outputs": [],
   "source": [
    "X = np.squeeze(np.asarray(X))"
   ]
  },
  {
   "cell_type": "code",
   "execution_count": 29,
   "metadata": {
    "collapsed": true
   },
   "outputs": [],
   "source": [
    "import matplotlib.pyplot as plt"
   ]
  },
  {
   "cell_type": "code",
   "execution_count": 30,
   "metadata": {
    "collapsed": true
   },
   "outputs": [],
   "source": [
    "from sklearn.cluster import KMeans\n",
    "\n",
    "km = KMeans(n_clusters=3, \n",
    "            init='random', \n",
    "            n_init=100, \n",
    "            max_iter=3000,\n",
    "            tol=1e-04,\n",
    "            random_state=0)\n",
    "y_km = km.fit_predict(X)"
   ]
  },
  {
   "cell_type": "code",
   "execution_count": 31,
   "metadata": {},
   "outputs": [
    {
     "data": {
      "text/plain": [
       "array([1, 1, 1, ..., 1, 1, 1], dtype=int32)"
      ]
     },
     "execution_count": 31,
     "metadata": {},
     "output_type": "execute_result"
    }
   ],
   "source": [
    "y_km"
   ]
  },
  {
   "cell_type": "code",
   "execution_count": 32,
   "metadata": {
    "collapsed": true
   },
   "outputs": [],
   "source": [
    "#X = np.squeeze(np.asarray(X))"
   ]
  },
  {
   "cell_type": "code",
   "execution_count": 34,
   "metadata": {},
   "outputs": [
    {
     "data": {
      "image/png": "[encoded data removed]",
      "text/plain": [
       "<matplotlib.figure.Figure at 0x11e3ad780>"
      ]
     },
     "metadata": {},
     "output_type": "display_data"
    }
   ],
   "source": [
    "plt.scatter(X[y_km == 0, 0],\n",
    "            X[y_km == 0, 1],\n",
    "            s=50,\n",
    "            c='lightgreen',\n",
    "            marker='s',\n",
    "            label='cluster 1')\n",
    "plt.scatter(X[y_km == 1, 0],\n",
    "            X[y_km == 1, 1],\n",
    "            s=50,\n",
    "            c='orange',\n",
    "            marker='o',\n",
    "            label='cluster 2')\n",
    "plt.scatter(X[y_km == 2, 0],\n",
    "            X[y_km == 2, 1],\n",
    "            s=50,\n",
    "            c='lightblue',\n",
    "            marker='v',\n",
    "            label='cluster 3')\n",
    "plt.scatter(km.cluster_centers_[:, 0],\n",
    "            km.cluster_centers_[:, 1],\n",
    "            s=250,\n",
    "            marker='*',\n",
    "            c='red',\n",
    "            label='centroids')\n",
    "plt.legend()\n",
    "plt.grid()\n",
    "plt.tight_layout()\n",
    "#plt.savefig('./figures/centroids.png', dpi=300)\n",
    "plt.show()"
   ]
  },
  {
   "cell_type": "code",
   "execution_count": 35,
   "metadata": {
    "collapsed": true
   },
   "outputs": [],
   "source": [
    "from sklearn.cluster import KMeans\n",
    "\n",
    "km = KMeans(n_clusters=2, \n",
    "            init='random', \n",
    "            n_init=100, \n",
    "            max_iter=3000,\n",
    "            tol=1e-04,\n",
    "            random_state=0)\n",
    "y_km = km.fit_predict(X)"
   ]
  },
  {
   "cell_type": "code",
   "execution_count": 37,
   "metadata": {},
   "outputs": [
    {
     "data": {
      "image/png": "[encoded data removed]",
      "text/plain": [
       "<matplotlib.figure.Figure at 0x11e1d6518>"
      ]
     },
     "metadata": {},
     "output_type": "display_data"
    }
   ],
   "source": [
    "plt.scatter(X[y_km == 0, 0],\n",
    "            X[y_km == 0, 1],\n",
    "            s=50,\n",
    "            c='lightgreen',\n",
    "            marker='s',\n",
    "            label='cluster 1')\n",
    "plt.scatter(X[y_km == 1, 0],\n",
    "            X[y_km == 1, 1],\n",
    "            s=50,\n",
    "            c='orange',\n",
    "            marker='o',\n",
    "            label='cluster 2')\n",
    "plt.scatter(km.cluster_centers_[:, 0],\n",
    "            km.cluster_centers_[:, 1],\n",
    "            s=250,\n",
    "            marker='*',\n",
    "            c='red',\n",
    "            label='centroids')\n",
    "plt.legend()\n",
    "plt.grid()\n",
    "plt.tight_layout()\n",
    "#plt.savefig('./figures/centroids.png', dpi=300)\n",
    "plt.show()"
   ]
  },
  {
   "cell_type": "code",
   "execution_count": 38,
   "metadata": {
    "collapsed": true
   },
   "outputs": [],
   "source": [
    "from sklearn.cluster import KMeans\n",
    "\n",
    "km = KMeans(n_clusters=4, \n",
    "            init='random', \n",
    "            n_init=100, \n",
    "            max_iter=3000,\n",
    "            tol=1e-04,\n",
    "            random_state=0)\n",
    "y_km = km.fit_predict(X)"
   ]
  },
  {
   "cell_type": "code",
   "execution_count": 42,
   "metadata": {},
   "outputs": [
    {
     "data": {
      "image/png": "[encoded data removed]",
      "text/plain": [
       "<matplotlib.figure.Figure at 0x11e614940>"
      ]
     },
     "metadata": {},
     "output_type": "display_data"
    }
   ],
   "source": [
    "plt.scatter(X[y_km == 0, 0],\n",
    "            X[y_km == 0, 1],\n",
    "            s=50,\n",
    "            c='lightgreen',\n",
    "            marker='s',\n",
    "            label='cluster 1')\n",
    "plt.scatter(X[y_km == 1, 0],\n",
    "            X[y_km == 1, 1],\n",
    "            s=50,\n",
    "            c='orange',\n",
    "            marker='o',\n",
    "            label='cluster 2')\n",
    "plt.scatter(X[y_km == 2, 0],\n",
    "            X[y_km == 2, 1],\n",
    "            s=50,\n",
    "            c='blue',\n",
    "            marker='o',\n",
    "            label='cluster 3')\n",
    "plt.scatter(X[y_km == 3, 0],\n",
    "            X[y_km == 3, 1],\n",
    "            s=50,\n",
    "            c='violet',\n",
    "            marker='o',\n",
    "            label='cluster 4')\n",
    "plt.scatter(km.cluster_centers_[:, 0],\n",
    "            km.cluster_centers_[:, 1],\n",
    "            s=250,\n",
    "            marker='*',\n",
    "            c='red',\n",
    "            label='centroids')\n",
    "plt.legend()\n",
    "plt.grid()\n",
    "plt.tight_layout()\n",
    "#plt.savefig('./figures/centroids.png', dpi=300)\n",
    "plt.show()"
   ]
  },
  {
   "cell_type": "code",
   "execution_count": 44,
   "metadata": {
    "collapsed": true
   },
   "outputs": [],
   "source": [
    "from sklearn.cluster import KMeans\n",
    "\n",
    "km = KMeans(n_clusters=5, \n",
    "            init='random', \n",
    "            n_init=100, \n",
    "            max_iter=3000,\n",
    "            tol=1e-04,\n",
    "            random_state=0)\n",
    "y_km = km.fit_predict(X)"
   ]
  },
  {
   "cell_type": "code",
   "execution_count": 47,
   "metadata": {},
   "outputs": [
    {
     "data": {
      "image/png": "[encoded data removed]",
      "text/plain": [
       "<matplotlib.figure.Figure at 0x11ddf19e8>"
      ]
     },
     "metadata": {},
     "output_type": "display_data"
    }
   ],
   "source": [
    "plt.scatter(X[y_km == 0, 0],\n",
    "            X[y_km == 0, 1],\n",
    "            s=50,\n",
    "            c='lightgreen',\n",
    "            marker='s',\n",
    "            label='cluster 1')\n",
    "plt.scatter(X[y_km == 1, 0],\n",
    "            X[y_km == 1, 1],\n",
    "            s=50,\n",
    "            c='orange',\n",
    "            marker='o',\n",
    "            label='cluster 2')\n",
    "plt.scatter(X[y_km == 2, 0],\n",
    "            X[y_km == 2, 1],\n",
    "            s=50,\n",
    "            c='blue',\n",
    "            marker='o',\n",
    "            label='cluster 3')\n",
    "plt.scatter(X[y_km == 3, 0],\n",
    "            X[y_km == 3, 1],\n",
    "            s=50,\n",
    "            c='violet',\n",
    "            marker='o',\n",
    "            label='cluster 4')\n",
    "plt.scatter(X[y_km == 4, 0],\n",
    "            X[y_km == 4, 1],\n",
    "            s=50,\n",
    "            c='pink',\n",
    "            marker='o',\n",
    "            label='cluster 5')\n",
    "plt.scatter(km.cluster_centers_[:, 0],\n",
    "            km.cluster_centers_[:, 1],\n",
    "            s=250,\n",
    "            marker='*',\n",
    "            c='red',\n",
    "            label='centroids')\n",
    "plt.legend()\n",
    "plt.grid()\n",
    "plt.tight_layout()\n",
    "#plt.savefig('./figures/centroids.png', dpi=300)\n",
    "plt.show()"
   ]
  },
  {
   "cell_type": "code",
   "execution_count": null,
   "metadata": {
    "collapsed": true
   },
   "outputs": [],
   "source": []
  }
 ],
 "metadata": {
  "kernelspec": {
   "display_name": "Python 3",
   "language": "python",
   "name": "python3"
  },
  "language_info": {
   "codemirror_mode": {
    "name": "ipython",
    "version": 3
   },
   "file_extension": ".py",
   "mimetype": "text/x-python",
   "name": "python",
   "nbconvert_exporter": "python",
   "pygments_lexer": "ipython3",
   "version": "3.6.1"
  }
 },
 "nbformat": 4,
 "nbformat_minor": 2
}
